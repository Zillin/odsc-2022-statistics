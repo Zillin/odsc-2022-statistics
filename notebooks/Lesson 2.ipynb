{
 "cells": [
  {
   "cell_type": "code",
   "execution_count": 1,
   "metadata": {},
   "outputs": [],
   "source": [
    "import sys\n",
    "sys.path.append('../src')"
   ]
  },
  {
   "cell_type": "code",
   "execution_count": 2,
   "metadata": {},
   "outputs": [],
   "source": [
    "import pandas as pd\n",
    "import numpy as np\n",
    "from scipy import stats\n",
    "from utils import *\n",
    "\n",
    "import seaborn as sns\n",
    "sns.set()"
   ]
  },
  {
   "cell_type": "markdown",
   "metadata": {},
   "source": [
    "## Statistical significance and hypothesis testing\n",
    "\n",
    "Often we will want to make a distinction between two (or more) hypotheses based on data. We want to know whether one hypothesis is more likely than another based on the data we have. \n",
    "\n",
    "A statistical hypothesis test usually compares the observed results with those that would occur under the so-called \"null hypothesis.\" This hypothesis posits, for example, that the data for the test and control groups are identical or that the differences in the results can be solely ascribed to random fluctuations rather than underlying effects.\n",
    "\n",
    "Let's revisit our dataset from the previous lesson."
   ]
  },
  {
   "cell_type": "code",
   "execution_count": 3,
   "metadata": {},
   "outputs": [],
   "source": [
    "tweet_counts = tweets_data(mean=50, seed=484)"
   ]
  },
  {
   "cell_type": "code",
   "execution_count": 4,
   "metadata": {},
   "outputs": [
    {
     "data": {
      "image/png": "[encoded data removed]",
      "text/plain": [
       "<Figure size 432x288 with 1 Axes>"
      ]
     },
     "metadata": {},
     "output_type": "display_data"
    }
   ],
   "source": [
    "sample_mean = tweet_counts.mean()\n",
    "bins = np.linspace(0.5*sample_mean, 1.5*sample_mean, 25)\n",
    "weekend_msk = tweet_counts.index.map(lambda x: x.dayofweek in (5,6)).values\n",
    "weekday_msk = tweet_counts.index.map(lambda x: x.dayofweek not in (5,6)).values\n",
    "twoday_msk = tweet_counts.index.map(lambda x: x.dayofweek in (2,3)).values\n",
    "ax = sns.distplot(\n",
    "    tweet_counts, \n",
    "    bins=bins, \n",
    "    rug=True,\n",
    "    kde=False,\n",
    "    color='midnightblue',\n",
    ")\n",
    "ax = sns.distplot(\n",
    "    tweet_counts[weekend_msk],\n",
    "    bins=bins,\n",
    "    rug=False,\n",
    "    kde=False,\n",
    "    color='goldenrod',\n",
    "    ax=ax,\n",
    ")\n",
    "_ = ax.set_xlabel('Tweets / Day')\n",
    "_ = ax.set_ylabel('Number of Days with that count')\n",
    "_ = ax.set_title('Distribution of Daily Tweet Count')"
   ]
  },
  {
   "cell_type": "markdown",
   "metadata": {},
   "source": [
    "It looks like the weekdays have a lower mean than the weekends, perhaps? How can we decide if that is a significant difference or not?"
   ]
  },
  {
   "cell_type": "code",
   "execution_count": 5,
   "metadata": {},
   "outputs": [
    {
     "data": {
      "text/plain": [
       "count    286.000000\n",
       "mean      54.849650\n",
       "std        7.166818\n",
       "min       38.000000\n",
       "25%       50.000000\n",
       "50%       54.000000\n",
       "75%       60.000000\n",
       "max       75.000000\n",
       "dtype: float64"
      ]
     },
     "metadata": {},
     "output_type": "display_data"
    },
    {
     "data": {
      "text/plain": [
       "count    714.000000\n",
       "mean      50.488796\n",
       "std        7.252065\n",
       "min       26.000000\n",
       "25%       46.000000\n",
       "50%       51.000000\n",
       "75%       55.000000\n",
       "max       73.000000\n",
       "dtype: float64"
      ]
     },
     "metadata": {},
     "output_type": "display_data"
    }
   ],
   "source": [
    "display(tweet_counts[weekend_msk].describe())\n",
    "display(tweet_counts[np.logical_not(weekend_msk)].describe())"
   ]
  },
  {
   "cell_type": "markdown",
   "metadata": {},
   "source": [
    "The means do differ but by less than either distribution's standard deviation. The two histograms are completely overlapping."
   ]
  },
  {
   "cell_type": "markdown",
   "metadata": {},
   "source": [
    "## Statistical Tests\n",
    "\n",
    "A statistical test consists of a test statistic and its distribution. The general procedure is to calculate the statistic and then see what fraction of the distribution has more extreme values of the statistic.\n",
    "\n",
    "Let's use our tweet data as an example and run the two-sample t-test to determine whether the observed difference in means is significant."
   ]
  },
  {
   "cell_type": "code",
   "execution_count": 6,
   "metadata": {},
   "outputs": [
    {
     "data": {
      "text/plain": [
       "Ttest_indResult(statistic=-8.621765996954668, pvalue=2.555337344825485e-17)"
      ]
     },
     "execution_count": 6,
     "metadata": {},
     "output_type": "execute_result"
    }
   ],
   "source": [
    "stats.ttest_ind(tweet_counts[np.logical_not(weekend_msk)], tweet_counts[weekend_msk])"
   ]
  },
  {
   "cell_type": "code",
   "execution_count": 7,
   "metadata": {},
   "outputs": [
    {
     "name": "stdout",
     "output_type": "stream",
     "text": [
      "5 points from each:  Ttest_indResult(statistic=-1.6073673796734944, pvalue=0.14664073512148978)\n",
      "10 points from each:  Ttest_indResult(statistic=-1.6067956679784843, pvalue=0.125498901180735)\n",
      "25 points from each:  Ttest_indResult(statistic=-2.3249025072574945, pvalue=0.024352971212103128)\n",
      "50 points from each:  Ttest_indResult(statistic=-2.471285147067676, pvalue=0.01518816691728996)\n",
      "100 points from each:  Ttest_indResult(statistic=-5.176349588253852, pvalue=5.535920482855567e-07)\n"
     ]
    }
   ],
   "source": [
    "sample_sizes = [5, 10, 25, 50, 100]\n",
    "for sample_size in sample_sizes:\n",
    "    print(f\"{sample_size} points from each: \", stats.ttest_ind(\n",
    "        tweet_counts[np.logical_not(weekend_msk)].sample(sample_size), \n",
    "        tweet_counts[weekend_msk].sample(sample_size)\n",
    "    ))"
   ]
  },
  {
   "cell_type": "markdown",
   "metadata": {},
   "source": [
    "For all but the smallest samples, we find that it is very unlikely (< 5% chance) that the two samples have the same mean.\n",
    "\n",
    "[When to use which statistical test](https://towardsdatascience.com/statistical-tests-when-to-use-which-704557554740)\n",
    "\n",
    "We can also look at the difference of means in a less formal way using random number generation."
   ]
  },
  {
   "cell_type": "markdown",
   "metadata": {},
   "source": [
    "## Hacker method\n",
    "\n",
    "We have a set of data and we can generate new realizations of that data by randomly choosing elements with replacement. This is called bootstrapping."
   ]
  },
  {
   "cell_type": "code",
   "execution_count": 8,
   "metadata": {},
   "outputs": [],
   "source": [
    "def mean_bootstrap(data):\n",
    "    return data.sample(frac=1.0, replace=True).mean()"
   ]
  },
  {
   "cell_type": "code",
   "execution_count": 17,
   "metadata": {},
   "outputs": [],
   "source": [
    "n_bootstraps = 1000\n",
    "\n",
    "n_weekday = weekday_msk.sum()\n",
    "weekday_means = np.zeros(n_bootstraps)\n",
    "for i in range(n_bootstraps):\n",
    "    weekday_means[i] = mean_bootstrap(tweet_counts[weekday_msk])\n",
    "    \n",
    "n_weekend = weekend_msk.sum()\n",
    "weekend_means = np.zeros(n_bootstraps)\n",
    "for i in range(n_bootstraps):\n",
    "    weekend_means[i] = mean_bootstrap(tweet_counts[weekend_msk])"
   ]
  },
  {
   "cell_type": "code",
   "execution_count": 21,
   "metadata": {},
   "outputs": [
    {
     "data": {
      "text/plain": [
       "<matplotlib.axes._subplots.AxesSubplot at 0x1359541d0>"
      ]
     },
     "execution_count": 21,
     "metadata": {},
     "output_type": "execute_result"
    },
    {
     "data": {
      "image/png": "[encoded data removed]",
      "text/plain": [
       "<Figure size 432x288 with 1 Axes>"
      ]
     },
     "metadata": {},
     "output_type": "display_data"
    }
   ],
   "source": [
    "sns.distplot(weekday_means)\n",
    "sns.distplot(weekend_means)"
   ]
  },
  {
   "cell_type": "markdown",
   "metadata": {},
   "source": [
    "The distribution of bootstrap samples do not overlap at all. "
   ]
  },
  {
   "cell_type": "markdown",
   "metadata": {},
   "source": [
    "The t-test is parametric and depends on assumptions about the data you are comparing. \n",
    "\n",
    "There are also non-parametric tests which are useful for cases where the data may not meet those assumptions.\n",
    "\n",
    "An example of a non-parametric test is the Kolmogorov–Smirnov test which uses the cumulative distribution of the data and either a reference distribution or another dataset."
   ]
  },
  {
   "cell_type": "code",
   "execution_count": 23,
   "metadata": {},
   "outputs": [
    {
     "data": {
      "text/plain": [
       "Ks_2sampResult(statistic=1.0, pvalue=0.0)"
      ]
     },
     "execution_count": 23,
     "metadata": {},
     "output_type": "execute_result"
    }
   ],
   "source": [
    "stats.ks_2samp(weekend_means, weekday_means)"
   ]
  },
  {
   "cell_type": "markdown",
   "metadata": {},
   "source": [
    "## Exercise: regenerate the data with a smaller difference of means and re-run both of the above tests\n",
    "\n",
    "There is an argument to the `tweets_data` function called `wknd_offset`which is set to 0.1 by default, set this to a lower value and generate the data and bootstrap samples using new weekend/weekday masks as above. Then run both the t-test and the KS test on your new simulated data."
   ]
  },
  {
   "cell_type": "code",
   "execution_count": null,
   "metadata": {},
   "outputs": [],
   "source": []
  }
 ],
 "metadata": {
  "kernelspec": {
   "display_name": "Python 3",
   "language": "python",
   "name": "python3"
  },
  "language_info": {
   "codemirror_mode": {
    "name": "ipython",
    "version": 3
   },
   "file_extension": ".py",
   "mimetype": "text/x-python",
   "name": "python",
   "nbconvert_exporter": "python",
   "pygments_lexer": "ipython3",
   "version": "3.7.7"
  }
 },
 "nbformat": 4,
 "nbformat_minor": 4
}
