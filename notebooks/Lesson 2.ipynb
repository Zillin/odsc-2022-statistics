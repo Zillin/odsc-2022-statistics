{
 "cells": [
  {
   "cell_type": "code",
   "execution_count": 1,
   "metadata": {},
   "outputs": [],
   "source": [
    "import sys\n",
    "sys.path.append('../src')"
   ]
  },
  {
   "cell_type": "code",
   "execution_count": 2,
   "metadata": {},
   "outputs": [],
   "source": [
    "import pandas as pd\n",
    "import numpy as np\n",
    "from scipy import stats\n",
    "from utils import *\n",
    "\n",
    "import seaborn as sns\n",
    "sns.set()"
   ]
  },
  {
   "cell_type": "markdown",
   "metadata": {},
   "source": [
    "## Statistical significance\n",
    "\n",
    "Often we will want to make a distinction between two hypotheses based on data, we want to know whether one hypothesis is more likely than another based on the data we have. \n",
    "\n",
    "A statistical hypothesis test usually compares the observed results with those that would occur under the so-called \"null hypothesis.\" This hypothesis posits, for example, that the data for the test and control groups are identical or that the differences in the results can be solely ascribed to random fluctuations rather than underlying effects.\n",
    "\n",
    "Let's revisit our dataset from the previous lesson."
   ]
  },
  {
   "cell_type": "code",
   "execution_count": 3,
   "metadata": {},
   "outputs": [],
   "source": [
    "tweet_counts = tweets_data(mean=50, seed=484)"
   ]
  },
  {
   "cell_type": "code",
   "execution_count": 12,
   "metadata": {},
   "outputs": [
    {
     "data": {
      "image/png": "[encoded data removed]",
      "text/plain": [
       "<Figure size 432x288 with 1 Axes>"
      ]
     },
     "metadata": {},
     "output_type": "display_data"
    }
   ],
   "source": [
    "sample_mean = tweet_counts.mean()\n",
    "bins = np.linspace(0.5*sample_mean, 1.5*sample_mean, 25)\n",
    "weekend_msk = tweet_counts.index.map(lambda x: x.dayofweek in (5,6)).values\n",
    "twoday_msk = tweet_counts.index.map(lambda x: x.dayofweek in (2,3)).values\n",
    "ax = sns.distplot(\n",
    "    tweet_counts, \n",
    "    bins=bins, \n",
    "    rug=True,\n",
    "    kde=False,\n",
    "    color='midnightblue',\n",
    ")\n",
    "ax = sns.distplot(\n",
    "    tweet_counts[weekend_msk],\n",
    "    bins=bins,\n",
    "    rug=False,\n",
    "    kde=False,\n",
    "    color='goldenrod',\n",
    "    ax=ax,\n",
    ")\n",
    "_ = ax.set_xlabel('Tweets / Day')\n",
    "_ = ax.set_ylabel('Number of Days with that count')\n",
    "_ = ax.set_title('Distribution of Daily Tweet Count')"
   ]
  },
  {
   "cell_type": "markdown",
   "metadata": {},
   "source": [
    "It looks like the weekdays have a lower mean than the weekends, perhaps? How can we decide if that is a significant difference or not?"
   ]
  },
  {
   "cell_type": "code",
   "execution_count": 5,
   "metadata": {},
   "outputs": [
    {
     "data": {
      "text/plain": [
       "count    286.000000\n",
       "mean      54.849650\n",
       "std        7.166818\n",
       "min       38.000000\n",
       "25%       50.000000\n",
       "50%       54.000000\n",
       "75%       60.000000\n",
       "max       75.000000\n",
       "dtype: float64"
      ]
     },
     "metadata": {},
     "output_type": "display_data"
    },
    {
     "data": {
      "text/plain": [
       "count    714.000000\n",
       "mean      50.488796\n",
       "std        7.252065\n",
       "min       26.000000\n",
       "25%       46.000000\n",
       "50%       51.000000\n",
       "75%       55.000000\n",
       "max       73.000000\n",
       "dtype: float64"
      ]
     },
     "metadata": {},
     "output_type": "display_data"
    }
   ],
   "source": [
    "display(tweet_counts[weekend_msk].describe())\n",
    "display(tweet_counts[np.logical_not(weekend_msk)].describe())"
   ]
  },
  {
   "cell_type": "markdown",
   "metadata": {},
   "source": [
    "The means do differ but by less than either distribution's standard deviation. The two histograms are completely overlapping."
   ]
  },
  {
   "cell_type": "markdown",
   "metadata": {},
   "source": [
    "## Statistical Tests\n",
    "\n",
    "A statistical test consists of a test statistic and its distribution. The general procedure is to calculate the statistic and then see what fraction of the distribution has more extreme values of the statistic.\n",
    "\n",
    "Let's use our tweet data as an example and run the two-sample t-test to determine whether the observed difference in means is significant."
   ]
  },
  {
   "cell_type": "code",
   "execution_count": 6,
   "metadata": {},
   "outputs": [
    {
     "data": {
      "text/plain": [
       "Ttest_indResult(statistic=-8.621765996954668, pvalue=2.555337344825485e-17)"
      ]
     },
     "execution_count": 6,
     "metadata": {},
     "output_type": "execute_result"
    }
   ],
   "source": [
    "stats.ttest_ind(tweet_counts[np.logical_not(weekend_msk)], tweet_counts[weekend_msk])"
   ]
  },
  {
   "cell_type": "code",
   "execution_count": 7,
   "metadata": {},
   "outputs": [
    {
     "name": "stdout",
     "output_type": "stream",
     "text": [
      "5 points from each:  Ttest_indResult(statistic=-1.6073673796734944, pvalue=0.14664073512148978)\n",
      "10 points from each:  Ttest_indResult(statistic=-1.6067956679784843, pvalue=0.125498901180735)\n",
      "25 points from each:  Ttest_indResult(statistic=-2.3249025072574945, pvalue=0.024352971212103128)\n",
      "50 points from each:  Ttest_indResult(statistic=-2.471285147067676, pvalue=0.01518816691728996)\n",
      "100 points from each:  Ttest_indResult(statistic=-5.176349588253852, pvalue=5.535920482855567e-07)\n"
     ]
    }
   ],
   "source": [
    "sample_sizes = [5, 10, 25, 50, 100]\n",
    "for sample_size in sample_sizes:\n",
    "    print(f\"{sample_size} points from each: \", stats.ttest_ind(\n",
    "        tweet_counts[np.logical_not(weekend_msk)].sample(sample_size), \n",
    "        tweet_counts[weekend_msk].sample(sample_size)\n",
    "    ))"
   ]
  },
  {
   "cell_type": "code",
   "execution_count": 8,
   "metadata": {},
   "outputs": [
    {
     "data": {
      "text/plain": [
       "count    1000.000000\n",
       "mean      100.840778\n",
       "std        26.241970\n",
       "min        12.285102\n",
       "25%        81.658418\n",
       "50%       100.589504\n",
       "75%       119.491412\n",
       "max       181.815620\n",
       "dtype: float64"
      ]
     },
     "metadata": {},
     "output_type": "display_data"
    },
    {
     "data": {
      "text/plain": [
       "1000"
      ]
     },
     "metadata": {},
     "output_type": "display_data"
    }
   ],
   "source": [
    "continuous1 = continuous_data_one()\n",
    "display(continuous1.describe())\n",
    "display(continuous1.notnull().sum())"
   ]
  },
  {
   "cell_type": "code",
   "execution_count": 9,
   "metadata": {},
   "outputs": [
    {
     "data": {
      "text/plain": [
       "(-20.0, 20.0)"
      ]
     },
     "execution_count": 9,
     "metadata": {},
     "output_type": "execute_result"
    },
    {
     "data": {
      "image/png": "[encoded data removed]",
      "text/plain": [
       "<Figure size 432x288 with 1 Axes>"
      ]
     },
     "metadata": {},
     "output_type": "display_data"
    }
   ],
   "source": [
    "bins = np.linspace(-20,20,25)\n",
    "ax = sns.distplot(np.random.standard_cauchy(10000), bins=bins, kde=False)\n",
    "ax.set_xlim(-20,20)"
   ]
  },
  {
   "cell_type": "code",
   "execution_count": 10,
   "metadata": {},
   "outputs": [
    {
     "data": {
      "text/plain": [
       "Ttest_indResult(statistic=-0.25319123998898113, pvalue=0.8003831225395359)"
      ]
     },
     "execution_count": 10,
     "metadata": {},
     "output_type": "execute_result"
    }
   ],
   "source": [
    "stats.ttest_ind(np.random.standard_cauchy(100), continuous_data_one(mean=0, size=100))"
   ]
  },
  {
   "cell_type": "code",
   "execution_count": 11,
   "metadata": {},
   "outputs": [
    {
     "data": {
      "text/html": [
       "<div>\n",
       "<style scoped>\n",
       "    .dataframe tbody tr th:only-of-type {\n",
       "        vertical-align: middle;\n",
       "    }\n",
       "\n",
       "    .dataframe tbody tr th {\n",
       "        vertical-align: top;\n",
       "    }\n",
       "\n",
       "    .dataframe thead th {\n",
       "        text-align: right;\n",
       "    }\n",
       "</style>\n",
       "<table border=\"1\" class=\"dataframe\">\n",
       "  <thead>\n",
       "    <tr style=\"text-align: right;\">\n",
       "      <th></th>\n",
       "      <th>0</th>\n",
       "      <th>1</th>\n",
       "    </tr>\n",
       "  </thead>\n",
       "  <tbody>\n",
       "    <tr>\n",
       "      <th>0</th>\n",
       "      <td>1.000000</td>\n",
       "      <td>0.200109</td>\n",
       "    </tr>\n",
       "    <tr>\n",
       "      <th>1</th>\n",
       "      <td>0.200109</td>\n",
       "      <td>1.000000</td>\n",
       "    </tr>\n",
       "  </tbody>\n",
       "</table>\n",
       "</div>"
      ],
      "text/plain": [
       "          0         1\n",
       "0  1.000000  0.200109\n",
       "1  0.200109  1.000000"
      ]
     },
     "execution_count": 11,
     "metadata": {},
     "output_type": "execute_result"
    }
   ],
   "source": [
    "d1 = add_nan(continuous_data_one(mean=0))\n",
    "d2 = add_nan(np.random.standard_cauchy(1000)) + 0.5*d1\n",
    "df = pd.DataFrame(data=[d1, d2])\n",
    "df.T.corr()"
   ]
  },
  {
   "cell_type": "code",
   "execution_count": null,
   "metadata": {},
   "outputs": [],
   "source": []
  }
 ],
 "metadata": {
  "kernelspec": {
   "display_name": "Python 3",
   "language": "python",
   "name": "python3"
  },
  "language_info": {
   "codemirror_mode": {
    "name": "ipython",
    "version": 3
   },
   "file_extension": ".py",
   "mimetype": "text/x-python",
   "name": "python",
   "nbconvert_exporter": "python",
   "pygments_lexer": "ipython3",
   "version": "3.7.7"
  }
 },
 "nbformat": 4,
 "nbformat_minor": 4
}
